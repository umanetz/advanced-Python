{
 "cells": [
  {
   "cell_type": "code",
   "execution_count": 2,
   "metadata": {},
   "outputs": [],
   "source": [
    "import random\n",
    "import time\n",
    "import collections\n",
    "import matplotlib.pyplot as plt\n",
    "\n"
   ]
  },
  {
   "cell_type": "markdown",
   "metadata": {},
   "source": [
    "### Задача 0\n"
   ]
  },
  {
   "cell_type": "code",
   "execution_count": 1,
   "metadata": {},
   "outputs": [],
   "source": [
    "\n",
    "def delete_elements_from_array(array, element):\n",
    "    \"\"\"\n",
    "        This function deletes all elements that equal to element from array. \n",
    "        \n",
    "        :param array: Input array\n",
    "        :type array: list\n",
    "        :param element: Element that must be deleted from array\n",
    "        :type element: int\n",
    "        \n",
    "        :returns: New array without element with the other elements in the same order\n",
    "        :rtype: list\n",
    "    \"\"\"\n",
    "    replace_position = len(array)\n",
    "\n",
    "    for i in range(len(array)):\n",
    "        if array[i] == element and replace_position == len(array):\n",
    "            replace_position = i\n",
    "\n",
    "        elif array[i] != element and replace_position != len(array):\n",
    "            array[i], array[replace_position] = array[replace_position], array[i]\n",
    "            replace_position += 1\n",
    "                        \n",
    "    return array[:replace_position]\n",
    "    "
   ]
  },
  {
   "cell_type": "code",
   "execution_count": 3,
   "metadata": {},
   "outputs": [],
   "source": [
    "N = 100\n",
    "times = collections.defaultdict(float)\n",
    "\n",
    "for n in range(3, 18):\n",
    "    n = 2**n\n",
    "\n",
    "    for i in range(N):\n",
    "        a = [0] * (n //3) +[random.randint(1, 5) for _ in range(n - n//3)]\n",
    "        random.shuffle(a)\n",
    "        start = time.time()\n",
    "        delete_elements_from_array(a, 0)\n",
    "        end = time.time()\n",
    "        times[n] += end-start\n",
    "    times[n] /= N"
   ]
  },
  {
   "cell_type": "code",
   "execution_count": 4,
   "metadata": {},
   "outputs": [
    {
     "data": {
      "text/plain": [
       "[<matplotlib.lines.Line2D at 0x109f6ee48>]"
      ]
     },
     "execution_count": 4,
     "metadata": {},
     "output_type": "execute_result"
    },
    {
     "data": {
      "image/png": "[encoded data removed]",
      "text/plain": [
       "<Figure size 432x288 with 1 Axes>"
      ]
     },
     "metadata": {},
     "output_type": "display_data"
    }
   ],
   "source": [
    "x = [i[0] for i in times.items()]\n",
    "y = [i[1] for i in times.items()]\n",
    "plt.plot(x, y)"
   ]
  },
  {
   "cell_type": "markdown",
   "metadata": {},
   "source": [
    "Как и хотели, линейная зависимость"
   ]
  },
  {
   "cell_type": "markdown",
   "metadata": {},
   "source": [
    "### Задача 1"
   ]
  },
  {
   "cell_type": "code",
   "execution_count": 14,
   "metadata": {},
   "outputs": [],
   "source": [
    "def min_complex_number(n1, n2, n3):\n",
    "    def abs_complex(x):\n",
    "        return abs(x)\n",
    "    \n",
    "    abs_1, abs_2, abs_3 = abs_complex(n1), abs_complex(n2), abs_complex(n3)\n",
    "    \n",
    "    if abs_1 < abs_2 and abs_1 < abs_3:\n",
    "        return n1\n",
    "    elif abs_2 < abs_3:\n",
    "        return n2\n",
    "    else:\n",
    "        return n3"
   ]
  },
  {
   "cell_type": "code",
   "execution_count": 6,
   "metadata": {},
   "outputs": [
    {
     "data": {
      "text/plain": [
       "(3+1j)"
      ]
     },
     "execution_count": 6,
     "metadata": {},
     "output_type": "execute_result"
    }
   ],
   "source": [
    "n1 = 3 + 4j\n",
    "n2 = 3 + 2j\n",
    "n3 = 3 + 1j\n",
    "\n",
    "min_complex_number(n1, n2, n3)"
   ]
  },
  {
   "cell_type": "markdown",
   "metadata": {},
   "source": [
    "### Задача 2"
   ]
  },
  {
   "cell_type": "code",
   "execution_count": 7,
   "metadata": {},
   "outputs": [],
   "source": [
    "from itertools import product\n",
    "import numpy as np "
   ]
  },
  {
   "cell_type": "code",
   "execution_count": 8,
   "metadata": {},
   "outputs": [],
   "source": [
    "class DtypeException(Exception):\n",
    "    def __init__(self, message):\n",
    "        pass\n",
    "        \n",
    "class FormatException(Exception):\n",
    "    def __init__(self, message):\n",
    "        pass"
   ]
  },
  {
   "cell_type": "code",
   "execution_count": 9,
   "metadata": {},
   "outputs": [],
   "source": [
    "from functools import lru_cache\n",
    "from itertools import permutations\n",
    "\n",
    "class ATM:\n",
    "    def __init__(self):\n",
    "        pass\n",
    "    \n",
    "    @lru_cache(maxsize=64)\n",
    "    def fib(self, n):\n",
    "        n = int(n)\n",
    "        a = 0\n",
    "        b = 1\n",
    "        for __ in range(n):\n",
    "            a, b = b, a + b\n",
    "        return str(a)\n",
    "    \n",
    "    @lru_cache(maxsize=64)\n",
    "    def gcd(self, a, b):\n",
    "        while a != 0 and b != 0:\n",
    "            if a > b:\n",
    "                a %= b\n",
    "            else:\n",
    "                b %= a\n",
    "        return a + b\n",
    "    \n",
    "    def array2int(self, array):\n",
    "        return int(''.join(array))\n",
    "\n",
    "    def divide_number(self, x, n_parts = 4):      \n",
    "        step = len(x) // n_parts\n",
    "        parts = [x[step*i:step*(i+1)] for i in range(n_parts)]\n",
    "        parts = sorted(parts)\n",
    "\n",
    "        if len(parts)*step != len(x):\n",
    "            raise FormatException('Incorrect card number')\n",
    "        \n",
    "        return parts\n",
    "    \n",
    "    def median(self, array):\n",
    "        return np.median(array)\n",
    "    \n",
    "    def return_mediana(self, card_number, password):\n",
    "        \"\"\"\n",
    "            Parameters\n",
    "            --------\n",
    "            card_number: int in range\n",
    "                card_number should consists of four parts of equal length\n",
    "            password: int\n",
    "            \n",
    "            Returns\n",
    "            --------\n",
    "            m: int\n",
    "                Median of greatest common divisor and password \n",
    "                between all permutations\n",
    "        \"\"\"\n",
    "        \n",
    "        if not isinstance(card_number, int) or card_number < 0:\n",
    "            raise DtypeException('card_number must be positive integer')\n",
    "            \n",
    "        if not isinstance(password, int) or password < 0:\n",
    "            raise DtypeException('Password must be positive integer')\n",
    "        \n",
    "        card_number = str(card_number)\n",
    "        \n",
    "        four_numbers = self.divide_number(card_number)\n",
    "        fibonacci = [self.fib(x) for x in four_numbers]\n",
    "        gcds = []\n",
    "        \n",
    "        for value in permutations(fibonacci):\n",
    "            value = self.array2int(value)\n",
    "            gcd_number = self.gcd(value, password)\n",
    "            gcds.append(gcd_number)\n",
    "            \n",
    "        return self.median(gcds)\n",
    " \n",
    "        "
   ]
  },
  {
   "cell_type": "code",
   "execution_count": 10,
   "metadata": {},
   "outputs": [],
   "source": [
    "card1 = 349\n",
    "card2 = 12345678\n",
    "card3 = 9999999899979996"
   ]
  },
  {
   "cell_type": "code",
   "execution_count": 11,
   "metadata": {},
   "outputs": [],
   "source": [
    "atm = ATM()"
   ]
  },
  {
   "cell_type": "code",
   "execution_count": 12,
   "metadata": {
    "scrolled": true
   },
   "outputs": [
    {
     "name": "stdout",
     "output_type": "stream",
     "text": [
      "CPU times: user 26.1 ms, sys: 1.36 ms, total: 27.5 ms\n",
      "Wall time: 26.7 ms\n"
     ]
    },
    {
     "data": {
      "text/plain": [
       "1.0"
      ]
     },
     "execution_count": 12,
     "metadata": {},
     "output_type": "execute_result"
    }
   ],
   "source": [
    "%time atm.return_mediana(card3, 3)"
   ]
  },
  {
   "cell_type": "code",
   "execution_count": 13,
   "metadata": {},
   "outputs": [
    {
     "name": "stdout",
     "output_type": "stream",
     "text": [
      "CPU times: user 14.7 ms, sys: 843 µs, total: 15.6 ms\n",
      "Wall time: 15.2 ms\n"
     ]
    },
    {
     "data": {
      "text/plain": [
       "1.0"
      ]
     },
     "execution_count": 13,
     "metadata": {},
     "output_type": "execute_result"
    }
   ],
   "source": [
    "%time atm.return_mediana(card3, 3)"
   ]
  },
  {
   "cell_type": "markdown",
   "metadata": {},
   "source": [
    "Время уменьшилось, так как данные кешировались."
   ]
  },
  {
   "cell_type": "code",
   "execution_count": 15,
   "metadata": {
    "scrolled": true
   },
   "outputs": [
    {
     "name": "stdout",
     "output_type": "stream",
     "text": [
      "CPU times: user 606 µs, sys: 181 µs, total: 787 µs\n",
      "Wall time: 716 µs\n"
     ]
    },
    {
     "data": {
      "text/plain": [
       "3.0"
      ]
     },
     "execution_count": 15,
     "metadata": {},
     "output_type": "execute_result"
    }
   ],
   "source": [
    "%time atm.return_mediana(card2, 3)"
   ]
  },
  {
   "cell_type": "markdown",
   "metadata": {},
   "source": [
    "### Задача 3"
   ]
  },
  {
   "cell_type": "markdown",
   "metadata": {},
   "source": [
    "Рассмотрим скорость работы при вставке и удалении элементов справа и слева для **list** и **deque**"
   ]
  },
  {
   "cell_type": "code",
   "execution_count": 16,
   "metadata": {},
   "outputs": [],
   "source": [
    "from collections import deque\n"
   ]
  },
  {
   "cell_type": "markdown",
   "metadata": {},
   "source": [
    "СКОРОСТЬ"
   ]
  },
  {
   "cell_type": "code",
   "execution_count": 17,
   "metadata": {
    "scrolled": true
   },
   "outputs": [
    {
     "name": "stdout",
     "output_type": "stream",
     "text": [
      "append/pop right\n",
      "112 ns ± 5.7 ns per loop (mean ± std. dev. of 7 runs, 10000000 loops each)\n",
      "83.4 ns ± 0.769 ns per loop (mean ± std. dev. of 7 runs, 10000000 loops each)\n",
      "\n",
      "append/pop left\n",
      "641 ns ± 14.4 ns per loop (mean ± std. dev. of 7 runs, 1000000 loops each)\n",
      "92 ns ± 1.79 ns per loop (mean ± std. dev. of 7 runs, 10000000 loops each)\n",
      "\n",
      "append/pop middle\n",
      "426 ns ± 23.7 ns per loop (mean ± std. dev. of 7 runs, 1000000 loops each)\n",
      "911 ns ± 11.3 ns per loop (mean ± std. dev. of 7 runs, 1000000 loops each)\n"
     ]
    }
   ],
   "source": [
    "s = list(range(1000))\n",
    "d = deque(s)\n",
    "\n",
    "s_rappend, s_rpop = s.append, s.pop\n",
    "d_rappend, d_rpop = d.append, d.pop\n",
    "\n",
    "s_lappend, s_lpop = s.insert, s.pop\n",
    "d_lappend, d_lpop = d.appendleft, d.popleft\n",
    "\n",
    "s_mappend, s_mpop = s.insert, s.pop\n",
    "d_mappend, d_mpop = d.insert, d.pop\n",
    "\n",
    "print('append/pop right')\n",
    "%timeit s_rpop(); s_rappend(None) # list right performance\n",
    "%timeit d_rpop(); d_rappend(None) # deque right performance\n",
    "print()\n",
    "print('append/pop left')\n",
    "%timeit s_lpop(); s_lappend(0, None) # list left performance\n",
    "%timeit d_lpop(); d_lappend(None) # deque left performance\n",
    "print()\n",
    "print('append/pop middle')\n",
    "%timeit s_mpop(); s_mappend(500, None) # list middle performance\n",
    "%timeit d_mpop(); d_mappend(500, None) # deque middle performance\n",
    "\n"
   ]
  },
  {
   "cell_type": "markdown",
   "metadata": {},
   "source": [
    "**deque** работает быстрее, чем **list** как для добавления элемента справа, так и слева. \n",
    "\n",
    "В **list** вставка элемента в конец или удаление элемента с конца имеет сложность O(1).\n",
    "\n",
    "При добавлении или удалении элемента из **list**, все последующие элементы придется передвинуть, поэтому в худшем случае мы передвинем n эллементов. И сложность добавления элемента в начало станет O(n).\n",
    "\n",
    "**deque** - это структура, объединяющая стек и очередь, которая поддерживает операции добавления в конец и в начало (элементы не передвигаются). Поэтому при добавлении или удалении элемента из начала массива сложность останется O(1). Но у **deque** плохая производительность, O(n), при добавлении элементов в середину массива."
   ]
  },
  {
   "cell_type": "markdown",
   "metadata": {},
   "source": [
    "ПАМЯТЬ"
   ]
  },
  {
   "cell_type": "markdown",
   "metadata": {},
   "source": [
    "Напишем функцию, которая показывает как хранится объект в памяти если мы добавляем объекты справа. \n",
    "         "
   ]
  },
  {
   "cell_type": "code",
   "execution_count": 18,
   "metadata": {},
   "outputs": [],
   "source": [
    "from sys import getsizeof\n",
    "def function_rappend():\n",
    "    print('deque')\n",
    "    N = int(0)    \n",
    "    x_deq = deque([0] * N)\n",
    "    x_li = list([0] * N)\n",
    "    for i in range(130):\n",
    "        print('{}: list size: {}, deque size: {}'.format(\n",
    "            i, getsizeof(x_li), getsizeof(x_deq)))\n",
    "        x_li.append(1)\n",
    "        x_deq.append(1)\n",
    "        "
   ]
  },
  {
   "cell_type": "code",
   "execution_count": 19,
   "metadata": {},
   "outputs": [
    {
     "name": "stdout",
     "output_type": "stream",
     "text": [
      "deque\n",
      "0: list size: 64, deque size: 632\n",
      "1: list size: 96, deque size: 632\n",
      "2: list size: 96, deque size: 632\n",
      "3: list size: 96, deque size: 632\n",
      "4: list size: 96, deque size: 632\n",
      "5: list size: 128, deque size: 632\n",
      "6: list size: 128, deque size: 632\n",
      "7: list size: 128, deque size: 632\n",
      "8: list size: 128, deque size: 632\n",
      "9: list size: 192, deque size: 632\n",
      "10: list size: 192, deque size: 632\n",
      "11: list size: 192, deque size: 632\n",
      "12: list size: 192, deque size: 632\n",
      "13: list size: 192, deque size: 632\n",
      "14: list size: 192, deque size: 632\n",
      "15: list size: 192, deque size: 632\n",
      "16: list size: 192, deque size: 632\n",
      "17: list size: 264, deque size: 632\n",
      "18: list size: 264, deque size: 632\n",
      "19: list size: 264, deque size: 632\n",
      "20: list size: 264, deque size: 632\n",
      "21: list size: 264, deque size: 632\n",
      "22: list size: 264, deque size: 632\n",
      "23: list size: 264, deque size: 632\n",
      "24: list size: 264, deque size: 632\n",
      "25: list size: 264, deque size: 632\n",
      "26: list size: 344, deque size: 632\n",
      "27: list size: 344, deque size: 632\n",
      "28: list size: 344, deque size: 632\n",
      "29: list size: 344, deque size: 632\n",
      "30: list size: 344, deque size: 632\n",
      "31: list size: 344, deque size: 632\n",
      "32: list size: 344, deque size: 632\n",
      "33: list size: 344, deque size: 632\n",
      "34: list size: 344, deque size: 632\n",
      "35: list size: 344, deque size: 632\n",
      "36: list size: 432, deque size: 632\n",
      "37: list size: 432, deque size: 632\n",
      "38: list size: 432, deque size: 632\n",
      "39: list size: 432, deque size: 632\n",
      "40: list size: 432, deque size: 632\n",
      "41: list size: 432, deque size: 632\n",
      "42: list size: 432, deque size: 632\n",
      "43: list size: 432, deque size: 632\n",
      "44: list size: 432, deque size: 632\n",
      "45: list size: 432, deque size: 632\n",
      "46: list size: 432, deque size: 632\n",
      "47: list size: 528, deque size: 632\n",
      "48: list size: 528, deque size: 632\n",
      "49: list size: 528, deque size: 632\n",
      "50: list size: 528, deque size: 632\n",
      "51: list size: 528, deque size: 632\n",
      "52: list size: 528, deque size: 632\n",
      "53: list size: 528, deque size: 632\n",
      "54: list size: 528, deque size: 632\n",
      "55: list size: 528, deque size: 632\n",
      "56: list size: 528, deque size: 632\n",
      "57: list size: 528, deque size: 632\n",
      "58: list size: 528, deque size: 632\n",
      "59: list size: 640, deque size: 632\n",
      "60: list size: 640, deque size: 632\n",
      "61: list size: 640, deque size: 632\n",
      "62: list size: 640, deque size: 632\n",
      "63: list size: 640, deque size: 632\n",
      "64: list size: 640, deque size: 1160\n",
      "65: list size: 640, deque size: 1160\n",
      "66: list size: 640, deque size: 1160\n",
      "67: list size: 640, deque size: 1160\n",
      "68: list size: 640, deque size: 1160\n",
      "69: list size: 640, deque size: 1160\n",
      "70: list size: 640, deque size: 1160\n",
      "71: list size: 640, deque size: 1160\n",
      "72: list size: 640, deque size: 1160\n",
      "73: list size: 768, deque size: 1160\n",
      "74: list size: 768, deque size: 1160\n",
      "75: list size: 768, deque size: 1160\n",
      "76: list size: 768, deque size: 1160\n",
      "77: list size: 768, deque size: 1160\n",
      "78: list size: 768, deque size: 1160\n",
      "79: list size: 768, deque size: 1160\n",
      "80: list size: 768, deque size: 1160\n",
      "81: list size: 768, deque size: 1160\n",
      "82: list size: 768, deque size: 1160\n",
      "83: list size: 768, deque size: 1160\n",
      "84: list size: 768, deque size: 1160\n",
      "85: list size: 768, deque size: 1160\n",
      "86: list size: 768, deque size: 1160\n",
      "87: list size: 768, deque size: 1160\n",
      "88: list size: 768, deque size: 1160\n",
      "89: list size: 912, deque size: 1160\n",
      "90: list size: 912, deque size: 1160\n",
      "91: list size: 912, deque size: 1160\n",
      "92: list size: 912, deque size: 1160\n",
      "93: list size: 912, deque size: 1160\n",
      "94: list size: 912, deque size: 1160\n",
      "95: list size: 912, deque size: 1160\n",
      "96: list size: 912, deque size: 1160\n",
      "97: list size: 912, deque size: 1160\n",
      "98: list size: 912, deque size: 1160\n",
      "99: list size: 912, deque size: 1160\n",
      "100: list size: 912, deque size: 1160\n",
      "101: list size: 912, deque size: 1160\n",
      "102: list size: 912, deque size: 1160\n",
      "103: list size: 912, deque size: 1160\n",
      "104: list size: 912, deque size: 1160\n",
      "105: list size: 912, deque size: 1160\n",
      "106: list size: 912, deque size: 1160\n",
      "107: list size: 1072, deque size: 1160\n",
      "108: list size: 1072, deque size: 1160\n",
      "109: list size: 1072, deque size: 1160\n",
      "110: list size: 1072, deque size: 1160\n",
      "111: list size: 1072, deque size: 1160\n",
      "112: list size: 1072, deque size: 1160\n",
      "113: list size: 1072, deque size: 1160\n",
      "114: list size: 1072, deque size: 1160\n",
      "115: list size: 1072, deque size: 1160\n",
      "116: list size: 1072, deque size: 1160\n",
      "117: list size: 1072, deque size: 1160\n",
      "118: list size: 1072, deque size: 1160\n",
      "119: list size: 1072, deque size: 1160\n",
      "120: list size: 1072, deque size: 1160\n",
      "121: list size: 1072, deque size: 1160\n",
      "122: list size: 1072, deque size: 1160\n",
      "123: list size: 1072, deque size: 1160\n",
      "124: list size: 1072, deque size: 1160\n",
      "125: list size: 1072, deque size: 1160\n",
      "126: list size: 1072, deque size: 1160\n",
      "127: list size: 1248, deque size: 1160\n",
      "128: list size: 1248, deque size: 1688\n",
      "129: list size: 1248, deque size: 1688\n"
     ]
    }
   ],
   "source": [
    "function_rappend()"
   ]
  },
  {
   "cell_type": "markdown",
   "metadata": {},
   "source": [
    "Для списков новая память выделяется пропорционально размеру списка. Например, для пустого списка выделяется одна ячейка. Если к пустому списку добавляется элемент, то резервируется сразу 4 ячейки памяти. Если список имеет длину 5, и добавляется еще один эллемент, то резервируется еще 4 ячейки памяти и далее по следующей схеме: [https://stackoverflow.com/questions/7247298/size-of-list-in-memory].\n",
    "\n",
    "Для дека каждый раз резервируется новые 64 ячейки памяти. \n",
    "\n"
   ]
  },
  {
   "cell_type": "markdown",
   "metadata": {},
   "source": [
    "Далее посмотрим, что происходит, если мы добавляем в начало и в конец списка идека элемент."
   ]
  },
  {
   "cell_type": "code",
   "execution_count": 22,
   "metadata": {},
   "outputs": [],
   "source": [
    "def function_lrappend():\n",
    "    N = int(0)    \n",
    "    x_deq = deque()\n",
    "    x_li = list([])\n",
    "    for i in range(130):\n",
    "        x_li.append(0)\n",
    "        x_deq.append(0)\n",
    "        print('{} end: list size: {}, deque size: {}'.format(\n",
    "            i, getsizeof(x_li), getsizeof(x_deq)))\n",
    "            \n",
    "        x_li.insert(0, 1)\n",
    "        x_deq.appendleft(1)\n",
    "        \n",
    "        print('{} start: list size: {}, deque size: {}'.format(\n",
    "            i, getsizeof(x_li), getsizeof(x_deq)))"
   ]
  },
  {
   "cell_type": "code",
   "execution_count": 23,
   "metadata": {},
   "outputs": [
    {
     "name": "stdout",
     "output_type": "stream",
     "text": [
      "0 end: list size: 96, deque size: 632\n",
      "0 start: list size: 96, deque size: 632\n",
      "1 end: list size: 96, deque size: 632\n",
      "1 start: list size: 96, deque size: 632\n",
      "2 end: list size: 128, deque size: 632\n",
      "2 start: list size: 128, deque size: 632\n",
      "3 end: list size: 128, deque size: 632\n",
      "3 start: list size: 128, deque size: 632\n",
      "4 end: list size: 192, deque size: 632\n",
      "4 start: list size: 192, deque size: 632\n",
      "5 end: list size: 192, deque size: 632\n",
      "5 start: list size: 192, deque size: 632\n",
      "6 end: list size: 192, deque size: 632\n",
      "6 start: list size: 192, deque size: 632\n",
      "7 end: list size: 192, deque size: 632\n",
      "7 start: list size: 192, deque size: 632\n",
      "8 end: list size: 264, deque size: 632\n",
      "8 start: list size: 264, deque size: 632\n",
      "9 end: list size: 264, deque size: 632\n",
      "9 start: list size: 264, deque size: 632\n",
      "10 end: list size: 264, deque size: 632\n",
      "10 start: list size: 264, deque size: 632\n",
      "11 end: list size: 264, deque size: 632\n",
      "11 start: list size: 264, deque size: 632\n",
      "12 end: list size: 264, deque size: 632\n",
      "12 start: list size: 344, deque size: 632\n",
      "13 end: list size: 344, deque size: 632\n",
      "13 start: list size: 344, deque size: 632\n",
      "14 end: list size: 344, deque size: 632\n",
      "14 start: list size: 344, deque size: 632\n",
      "15 end: list size: 344, deque size: 632\n",
      "15 start: list size: 344, deque size: 632\n",
      "16 end: list size: 344, deque size: 632\n",
      "16 start: list size: 344, deque size: 632\n",
      "17 end: list size: 344, deque size: 632\n",
      "17 start: list size: 432, deque size: 632\n",
      "18 end: list size: 432, deque size: 632\n",
      "18 start: list size: 432, deque size: 632\n",
      "19 end: list size: 432, deque size: 632\n",
      "19 start: list size: 432, deque size: 632\n",
      "20 end: list size: 432, deque size: 632\n",
      "20 start: list size: 432, deque size: 632\n",
      "21 end: list size: 432, deque size: 632\n",
      "21 start: list size: 432, deque size: 632\n",
      "22 end: list size: 432, deque size: 632\n",
      "22 start: list size: 432, deque size: 632\n",
      "23 end: list size: 528, deque size: 632\n",
      "23 start: list size: 528, deque size: 632\n",
      "24 end: list size: 528, deque size: 632\n",
      "24 start: list size: 528, deque size: 632\n",
      "25 end: list size: 528, deque size: 632\n",
      "25 start: list size: 528, deque size: 632\n",
      "26 end: list size: 528, deque size: 632\n",
      "26 start: list size: 528, deque size: 632\n",
      "27 end: list size: 528, deque size: 632\n",
      "27 start: list size: 528, deque size: 632\n",
      "28 end: list size: 528, deque size: 632\n",
      "28 start: list size: 528, deque size: 632\n",
      "29 end: list size: 640, deque size: 632\n",
      "29 start: list size: 640, deque size: 632\n",
      "30 end: list size: 640, deque size: 632\n",
      "30 start: list size: 640, deque size: 632\n",
      "31 end: list size: 640, deque size: 632\n",
      "31 start: list size: 640, deque size: 632\n",
      "32 end: list size: 640, deque size: 1160\n",
      "32 start: list size: 640, deque size: 1688\n",
      "33 end: list size: 640, deque size: 1688\n",
      "33 start: list size: 640, deque size: 1688\n",
      "34 end: list size: 640, deque size: 1688\n",
      "34 start: list size: 640, deque size: 1688\n",
      "35 end: list size: 640, deque size: 1688\n",
      "35 start: list size: 640, deque size: 1688\n",
      "36 end: list size: 768, deque size: 1688\n",
      "36 start: list size: 768, deque size: 1688\n",
      "37 end: list size: 768, deque size: 1688\n",
      "37 start: list size: 768, deque size: 1688\n",
      "38 end: list size: 768, deque size: 1688\n",
      "38 start: list size: 768, deque size: 1688\n",
      "39 end: list size: 768, deque size: 1688\n",
      "39 start: list size: 768, deque size: 1688\n",
      "40 end: list size: 768, deque size: 1688\n",
      "40 start: list size: 768, deque size: 1688\n",
      "41 end: list size: 768, deque size: 1688\n",
      "41 start: list size: 768, deque size: 1688\n",
      "42 end: list size: 768, deque size: 1688\n",
      "42 start: list size: 768, deque size: 1688\n",
      "43 end: list size: 768, deque size: 1688\n",
      "43 start: list size: 768, deque size: 1688\n",
      "44 end: list size: 912, deque size: 1688\n",
      "44 start: list size: 912, deque size: 1688\n",
      "45 end: list size: 912, deque size: 1688\n",
      "45 start: list size: 912, deque size: 1688\n",
      "46 end: list size: 912, deque size: 1688\n",
      "46 start: list size: 912, deque size: 1688\n",
      "47 end: list size: 912, deque size: 1688\n",
      "47 start: list size: 912, deque size: 1688\n",
      "48 end: list size: 912, deque size: 1688\n",
      "48 start: list size: 912, deque size: 1688\n",
      "49 end: list size: 912, deque size: 1688\n",
      "49 start: list size: 912, deque size: 1688\n",
      "50 end: list size: 912, deque size: 1688\n",
      "50 start: list size: 912, deque size: 1688\n",
      "51 end: list size: 912, deque size: 1688\n",
      "51 start: list size: 912, deque size: 1688\n",
      "52 end: list size: 912, deque size: 1688\n",
      "52 start: list size: 912, deque size: 1688\n",
      "53 end: list size: 1072, deque size: 1688\n",
      "53 start: list size: 1072, deque size: 1688\n",
      "54 end: list size: 1072, deque size: 1688\n",
      "54 start: list size: 1072, deque size: 1688\n",
      "55 end: list size: 1072, deque size: 1688\n",
      "55 start: list size: 1072, deque size: 1688\n",
      "56 end: list size: 1072, deque size: 1688\n",
      "56 start: list size: 1072, deque size: 1688\n",
      "57 end: list size: 1072, deque size: 1688\n",
      "57 start: list size: 1072, deque size: 1688\n",
      "58 end: list size: 1072, deque size: 1688\n",
      "58 start: list size: 1072, deque size: 1688\n",
      "59 end: list size: 1072, deque size: 1688\n",
      "59 start: list size: 1072, deque size: 1688\n",
      "60 end: list size: 1072, deque size: 1688\n",
      "60 start: list size: 1072, deque size: 1688\n",
      "61 end: list size: 1072, deque size: 1688\n",
      "61 start: list size: 1072, deque size: 1688\n",
      "62 end: list size: 1072, deque size: 1688\n",
      "62 start: list size: 1072, deque size: 1688\n",
      "63 end: list size: 1248, deque size: 1688\n",
      "63 start: list size: 1248, deque size: 1688\n",
      "64 end: list size: 1248, deque size: 1688\n",
      "64 start: list size: 1248, deque size: 1688\n",
      "65 end: list size: 1248, deque size: 1688\n",
      "65 start: list size: 1248, deque size: 1688\n",
      "66 end: list size: 1248, deque size: 1688\n",
      "66 start: list size: 1248, deque size: 1688\n",
      "67 end: list size: 1248, deque size: 1688\n",
      "67 start: list size: 1248, deque size: 1688\n",
      "68 end: list size: 1248, deque size: 1688\n",
      "68 start: list size: 1248, deque size: 1688\n",
      "69 end: list size: 1248, deque size: 1688\n",
      "69 start: list size: 1248, deque size: 1688\n",
      "70 end: list size: 1248, deque size: 1688\n",
      "70 start: list size: 1248, deque size: 1688\n",
      "71 end: list size: 1248, deque size: 1688\n",
      "71 start: list size: 1248, deque size: 1688\n",
      "72 end: list size: 1248, deque size: 1688\n",
      "72 start: list size: 1248, deque size: 1688\n",
      "73 end: list size: 1248, deque size: 1688\n",
      "73 start: list size: 1248, deque size: 1688\n",
      "74 end: list size: 1448, deque size: 1688\n",
      "74 start: list size: 1448, deque size: 1688\n",
      "75 end: list size: 1448, deque size: 1688\n",
      "75 start: list size: 1448, deque size: 1688\n",
      "76 end: list size: 1448, deque size: 1688\n",
      "76 start: list size: 1448, deque size: 1688\n",
      "77 end: list size: 1448, deque size: 1688\n",
      "77 start: list size: 1448, deque size: 1688\n",
      "78 end: list size: 1448, deque size: 1688\n",
      "78 start: list size: 1448, deque size: 1688\n",
      "79 end: list size: 1448, deque size: 1688\n",
      "79 start: list size: 1448, deque size: 1688\n",
      "80 end: list size: 1448, deque size: 1688\n",
      "80 start: list size: 1448, deque size: 1688\n",
      "81 end: list size: 1448, deque size: 1688\n",
      "81 start: list size: 1448, deque size: 1688\n",
      "82 end: list size: 1448, deque size: 1688\n",
      "82 start: list size: 1448, deque size: 1688\n",
      "83 end: list size: 1448, deque size: 1688\n",
      "83 start: list size: 1448, deque size: 1688\n",
      "84 end: list size: 1448, deque size: 1688\n",
      "84 start: list size: 1448, deque size: 1688\n",
      "85 end: list size: 1448, deque size: 1688\n",
      "85 start: list size: 1448, deque size: 1688\n",
      "86 end: list size: 1448, deque size: 1688\n",
      "86 start: list size: 1672, deque size: 1688\n",
      "87 end: list size: 1672, deque size: 1688\n",
      "87 start: list size: 1672, deque size: 1688\n",
      "88 end: list size: 1672, deque size: 1688\n",
      "88 start: list size: 1672, deque size: 1688\n",
      "89 end: list size: 1672, deque size: 1688\n",
      "89 start: list size: 1672, deque size: 1688\n",
      "90 end: list size: 1672, deque size: 1688\n",
      "90 start: list size: 1672, deque size: 1688\n",
      "91 end: list size: 1672, deque size: 1688\n",
      "91 start: list size: 1672, deque size: 1688\n",
      "92 end: list size: 1672, deque size: 1688\n",
      "92 start: list size: 1672, deque size: 1688\n",
      "93 end: list size: 1672, deque size: 1688\n",
      "93 start: list size: 1672, deque size: 1688\n",
      "94 end: list size: 1672, deque size: 1688\n",
      "94 start: list size: 1672, deque size: 1688\n",
      "95 end: list size: 1672, deque size: 1688\n",
      "95 start: list size: 1672, deque size: 1688\n",
      "96 end: list size: 1672, deque size: 2216\n",
      "96 start: list size: 1672, deque size: 2744\n",
      "97 end: list size: 1672, deque size: 2744\n",
      "97 start: list size: 1672, deque size: 2744\n",
      "98 end: list size: 1672, deque size: 2744\n",
      "98 start: list size: 1672, deque size: 2744\n",
      "99 end: list size: 1672, deque size: 2744\n",
      "99 start: list size: 1672, deque size: 2744\n",
      "100 end: list size: 1672, deque size: 2744\n",
      "100 start: list size: 1928, deque size: 2744\n",
      "101 end: list size: 1928, deque size: 2744\n",
      "101 start: list size: 1928, deque size: 2744\n",
      "102 end: list size: 1928, deque size: 2744\n",
      "102 start: list size: 1928, deque size: 2744\n",
      "103 end: list size: 1928, deque size: 2744\n",
      "103 start: list size: 1928, deque size: 2744\n",
      "104 end: list size: 1928, deque size: 2744\n",
      "104 start: list size: 1928, deque size: 2744\n",
      "105 end: list size: 1928, deque size: 2744\n",
      "105 start: list size: 1928, deque size: 2744\n",
      "106 end: list size: 1928, deque size: 2744\n",
      "106 start: list size: 1928, deque size: 2744\n",
      "107 end: list size: 1928, deque size: 2744\n",
      "107 start: list size: 1928, deque size: 2744\n",
      "108 end: list size: 1928, deque size: 2744\n",
      "108 start: list size: 1928, deque size: 2744\n",
      "109 end: list size: 1928, deque size: 2744\n",
      "109 start: list size: 1928, deque size: 2744\n",
      "110 end: list size: 1928, deque size: 2744\n",
      "110 start: list size: 1928, deque size: 2744\n",
      "111 end: list size: 1928, deque size: 2744\n",
      "111 start: list size: 1928, deque size: 2744\n",
      "112 end: list size: 1928, deque size: 2744\n",
      "112 start: list size: 1928, deque size: 2744\n",
      "113 end: list size: 1928, deque size: 2744\n",
      "113 start: list size: 1928, deque size: 2744\n",
      "114 end: list size: 1928, deque size: 2744\n",
      "114 start: list size: 1928, deque size: 2744\n",
      "115 end: list size: 1928, deque size: 2744\n",
      "115 start: list size: 1928, deque size: 2744\n",
      "116 end: list size: 1928, deque size: 2744\n",
      "116 start: list size: 2216, deque size: 2744\n",
      "117 end: list size: 2216, deque size: 2744\n",
      "117 start: list size: 2216, deque size: 2744\n",
      "118 end: list size: 2216, deque size: 2744\n",
      "118 start: list size: 2216, deque size: 2744\n",
      "119 end: list size: 2216, deque size: 2744\n",
      "119 start: list size: 2216, deque size: 2744\n",
      "120 end: list size: 2216, deque size: 2744\n",
      "120 start: list size: 2216, deque size: 2744\n",
      "121 end: list size: 2216, deque size: 2744\n",
      "121 start: list size: 2216, deque size: 2744\n",
      "122 end: list size: 2216, deque size: 2744\n",
      "122 start: list size: 2216, deque size: 2744\n",
      "123 end: list size: 2216, deque size: 2744\n",
      "123 start: list size: 2216, deque size: 2744\n",
      "124 end: list size: 2216, deque size: 2744\n",
      "124 start: list size: 2216, deque size: 2744\n",
      "125 end: list size: 2216, deque size: 2744\n",
      "125 start: list size: 2216, deque size: 2744\n",
      "126 end: list size: 2216, deque size: 2744\n",
      "126 start: list size: 2216, deque size: 2744\n",
      "127 end: list size: 2216, deque size: 2744\n",
      "127 start: list size: 2216, deque size: 2744\n",
      "128 end: list size: 2216, deque size: 2744\n",
      "128 start: list size: 2216, deque size: 2744\n",
      "129 end: list size: 2216, deque size: 2744\n",
      "129 start: list size: 2216, deque size: 2744\n"
     ]
    }
   ],
   "source": [
    "function_lrappend()"
   ]
  },
  {
   "cell_type": "markdown",
   "metadata": {},
   "source": [
    "Для списков при добавлении элемента в начало, все последующие элементы сдвигаются на 1 вперед и, если памяти не хватает, то выделяется еще память и логика остается прежней. \n",
    "\n",
    "Для дека новое резервирование памяти происходит также как и раньше. При создании нового блока хранится еще ссылка на связанный с ним блок, что увеличивает расход памяти. "
   ]
  },
  {
   "cell_type": "markdown",
   "metadata": {},
   "source": [
    "Вывод. Деки лучше использовать, когда нужно извлекать элементы из начала или конца. Для извлечения элементов посередине они не эффективны, так как нужно искать, как связаны блоки другс другом (лучше использовать list).  "
   ]
  },
  {
   "cell_type": "code",
   "execution_count": null,
   "metadata": {},
   "outputs": [],
   "source": []
  }
 ],
 "metadata": {
  "kernelspec": {
   "display_name": "Python 3",
   "language": "python",
   "name": "python3"
  },
  "language_info": {
   "codemirror_mode": {
    "name": "ipython",
    "version": 3
   },
   "file_extension": ".py",
   "mimetype": "text/x-python",
   "name": "python",
   "nbconvert_exporter": "python",
   "pygments_lexer": "ipython3",
   "version": "3.6.5"
  }
 },
 "nbformat": 4,
 "nbformat_minor": 2
}
