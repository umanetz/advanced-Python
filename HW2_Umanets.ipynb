{
 "cells": [
  {
   "cell_type": "markdown",
   "metadata": {},
   "source": [
    "### Сторонние библиотеки использовать нельзя"
   ]
  },
  {
   "cell_type": "markdown",
   "metadata": {},
   "source": [
    "### Задача 0 [Библиотека] (0.15 балла)  \n",
    "\n",
    "**Условие:** \n",
    "\n",
    "\n",
    "В библиотеке хранятся книги и журналы. У каждой сущности есть общие характеристики, такие как: название, автор, жанр, число страниц, формат страниц, индекс редкости (от 1 до 10) и текст. Также у разных сущностей могут быть свои атрибуты. Хочется все редкие издания (индекс 9 или 10) дополнительно сохранять в некое хранилище (пусть json-файл), а также хочется понимать какую площадь занимает издание, если разложить все его страницы на полу.     \n",
    "\n",
    "\n",
    "**Комментарий:**\n",
    "\n",
    "Это задача с семинара на организацию иерархии классов. Идея в том, что нужно разделять сущности в зависимости от их применения. Например, есть книга как некий абстрактный объект, а есть библиотечная книга, у которой есть свои особенности. Также для сохранения книг в json нужно использвать классы-примеси.\n",
    "\n",
    "\n",
    "Иерархия классов:"
   ]
  },
  {
   "cell_type": "code",
   "execution_count": 74,
   "metadata": {},
   "outputs": [],
   "source": [
    "PAGES_FORMAT = {\n",
    "    'A1': (2048, 1024),\n",
    "    'A2': (1024, 512),\n",
    "    'A3': (512, 256),\n",
    "    'A4': (297, 210),\n",
    "}\n",
    "\n",
    "\n",
    "class ReadableEntity:\n",
    "    pass\n",
    "\n",
    "\n",
    "class Journal(ReadableEntity):\n",
    "    pass\n",
    "\n",
    "\n",
    "class Book(ReadableEntity):\n",
    "    pass\n",
    "\n",
    "\n",
    "class Exporter:\n",
    "    \n",
    "    def export_to_txt(self, file_path):\n",
    "        with open(file_path, 'w') as f:\n",
    "            for key in self.__dict__:\n",
    "                f.write(\"{}: {}\".format(key, self.__dict__[key]))\n",
    "     \n",
    "    \n",
    "class LibraryJournal(Journal, Exporter):\n",
    "    pass\n",
    "\n",
    "\n",
    "class LibraryBook(Book, Exporter):\n",
    "    pass"
   ]
  },
  {
   "cell_type": "markdown",
   "metadata": {},
   "source": [
    "### Задача 1 [Размер объектов] (0 - 0.15 балла)  \n",
    "\n",
    "**Условие:** \n",
    "\n",
    "Написать функцию получения реального объема занимаемой объектом памяти объектом. \n",
    "\n",
    "\n",
    "1) Для int, str, list, tuple, dict **(0.05 балла)**\n",
    "\n",
    "2) Для всех типов **(+0.1 балла)**\n",
    "\n",
    "\n",
    "**Комментарий:**\n",
    "\n",
    "На занятиях не раз говорилось, что `sys.getsizeof` умеет находить размер простых объектов, но если речь идет об объектах, вроде list, то функция вернет не совсем то, что может ожидать разработчик, потому что список хранит указатели на объекты. \n",
    "\n",
    "*Пример:*\n",
    "```\n",
    "sys.getsizeof([]) == 64\n",
    "sys.getsizeof(['aaaaaaa']) == 72\n",
    "```\n",
    "Но\n",
    "```\n",
    "sys.getsizeof('aaaaaaa') == 56\n",
    "```\n"
   ]
  },
  {
   "cell_type": "code",
   "execution_count": 1,
   "metadata": {},
   "outputs": [],
   "source": [
    "import sys\n",
    "from collections import abc"
   ]
  },
  {
   "cell_type": "code",
   "execution_count": 2,
   "metadata": {},
   "outputs": [],
   "source": [
    "basic_type = (int, float, str, bytes, range, bytearray)\n"
   ]
  },
  {
   "cell_type": "code",
   "execution_count": 3,
   "metadata": {},
   "outputs": [],
   "source": [
    "def get_size(obj):\n",
    "    size = sys.getsizeof(obj)\n",
    "\n",
    "    if isinstance(obj, basic_type):\n",
    "        print('size({}) += {}'.format(obj, size))\n",
    "        return size\n",
    "    \n",
    "    elif isinstance(obj, abc.Sequence) or isinstance(obj, set):\n",
    "        print('size({}) += {}'.format(obj, size))\n",
    "        for i in obj:\n",
    "            size += get_size(i)\n",
    "            \n",
    "    elif isinstance(obj, abc.Mapping):\n",
    "        print('size({}) += {}'.format(obj, size))\n",
    "        for k, v in obj.items():\n",
    "            size += get_size(k) + get_size(v)\n",
    "            \n",
    "    if hasattr(obj, '__dict__'):\n",
    "        size = get_size(obj.__dict__)\n",
    "    return size"
   ]
  },
  {
   "cell_type": "code",
   "execution_count": 4,
   "metadata": {},
   "outputs": [],
   "source": [
    "from collections import deque"
   ]
  },
  {
   "cell_type": "code",
   "execution_count": 5,
   "metadata": {},
   "outputs": [],
   "source": [
    "class A():\n",
    "    def __init__(self):\n",
    "        self.a = 3\n",
    "        "
   ]
  },
  {
   "cell_type": "code",
   "execution_count": 6,
   "metadata": {},
   "outputs": [
    {
     "name": "stdout",
     "output_type": "stream",
     "text": [
      "size(55) += 51\n"
     ]
    },
    {
     "data": {
      "text/plain": [
       "51"
      ]
     },
     "execution_count": 6,
     "metadata": {},
     "output_type": "execute_result"
    }
   ],
   "source": [
    "get_size('55')"
   ]
  },
  {
   "cell_type": "code",
   "execution_count": 8,
   "metadata": {},
   "outputs": [
    {
     "name": "stdout",
     "output_type": "stream",
     "text": [
      "size(bytearray(b'hello world!')) += 69\n"
     ]
    },
    {
     "data": {
      "text/plain": [
       "69"
      ]
     },
     "execution_count": 8,
     "metadata": {},
     "output_type": "execute_result"
    }
   ],
   "source": [
    "get_size(bytearray(b'hello world!'))"
   ]
  },
  {
   "cell_type": "code",
   "execution_count": 9,
   "metadata": {},
   "outputs": [
    {
     "name": "stdout",
     "output_type": "stream",
     "text": [
      "size(['55', [1, [1.8]]]) += 80\n",
      "size(55) += 51\n",
      "size([1, [1.8]]) += 80\n",
      "size(1) += 28\n",
      "size([1.8]) += 72\n",
      "size(1.8) += 24\n"
     ]
    },
    {
     "data": {
      "text/plain": [
       "335"
      ]
     },
     "execution_count": 9,
     "metadata": {},
     "output_type": "execute_result"
    }
   ],
   "source": [
    "get_size(['55', [1,[1.8]]])"
   ]
  },
  {
   "cell_type": "code",
   "execution_count": 10,
   "metadata": {},
   "outputs": [
    {
     "name": "stdout",
     "output_type": "stream",
     "text": [
      "size({'a': 3}) += 112\n",
      "size(a) += 50\n",
      "size(3) += 28\n"
     ]
    },
    {
     "data": {
      "text/plain": [
       "190"
      ]
     },
     "execution_count": 10,
     "metadata": {},
     "output_type": "execute_result"
    }
   ],
   "source": [
    "get_size(A())"
   ]
  },
  {
   "cell_type": "code",
   "execution_count": 11,
   "metadata": {},
   "outputs": [
    {
     "name": "stdout",
     "output_type": "stream",
     "text": [
      "size({'a': 3}) += 112\n",
      "size(a) += 50\n",
      "size(3) += 28\n"
     ]
    },
    {
     "data": {
      "text/plain": [
       "190"
      ]
     },
     "execution_count": 11,
     "metadata": {},
     "output_type": "execute_result"
    }
   ],
   "source": [
    "get_size(A().__dict__)"
   ]
  },
  {
   "cell_type": "markdown",
   "metadata": {},
   "source": [
    "### Задача 2 [Многочлены] (0.64 балла)\n",
    "\n",
    "**Условие:**\n",
    "\n",
    "Реализовать класс многочлена. Определить операции:\n",
    "\n",
    "1) *сложения* - **(0.02 балла)**\n",
    "\n",
    "2) *вычитания* - **(0.02 балла)**\n",
    "\n",
    "3) *умножения* - **(0.04 балла)**\n",
    "\n",
    "3a) *быстрого умножения* (алгоритм Карацубы или быстрое преобразование Фурье) - **(+0.25 балла)**\n",
    "\n",
    "4) *деления* - **(0.05 балла)**\n",
    "\n",
    "5) *возведения в степень* - **(0.02 балла)** | *возведения в степень* через быстрое возведение в степень за log - **(0.04 балла)**\n",
    "\n",
    "6) *представления многочлена в человеческом виде* - **(0.02 балла)**\n",
    "\n",
    "7) *дифференцирования* - **(0.05 балла)**\n",
    "\n",
    "8) *интегрирования* - **(0.05 балла)**\n",
    "\n",
    "9) Вызова многочлена как функции (вычисление значения в точке) - **(0.03 балла)**\n",
    "\n",
    "**Комментарии:**\n",
    "\n",
    "Для комплексных коэффициентов **(0.01 балла)** к каждому пункту.\n",
    "\n",
    "Операции с числами также должны работать."
   ]
  },
  {
   "cell_type": "code",
   "execution_count": 11,
   "metadata": {},
   "outputs": [],
   "source": [
    "class FormatException(Exception):\n",
    "    def __init__(self, message):\n",
    "        pass"
   ]
  },
  {
   "cell_type": "code",
   "execution_count": 12,
   "metadata": {},
   "outputs": [],
   "source": [
    "class Polynomial:\n",
    "    \n",
    "    def __init__(self, coefficients=None):\n",
    "        \"\"\"  Parameters\n",
    "            --------\n",
    "            coefficients: list of float or int. Coefficients before degrees of a polynomial from 0 to n \n",
    "        \"\"\"\n",
    "        if coefficients == None or len(coefficients) == 0:\n",
    "            self.coefficients = [0]\n",
    "        else:\n",
    "            self.coefficients = list(coefficients)\n",
    "        \n",
    "        \n",
    "        self.degree = len(self.coefficients) - 1\n",
    "\n",
    "        if any([not isinstance(x, (float, int)) for x in self.coefficients]):\n",
    "            raise FormatException('coefficients must be float or int')\n",
    "    \n",
    "    \n",
    "    def __repr__(self):\n",
    "        \"\"\"\n",
    "        method to return the canonical string representation \n",
    "        of a polynomial.\n",
    "   \n",
    "        \"\"\"\n",
    "        first_plus = 0\n",
    "        res = ''\n",
    "        \n",
    "        if all([x == 0 for x in self.coefficients]):\n",
    "            return '0'\n",
    "        \n",
    "        for power, coeff in enumerate(self.coefficients):\n",
    "            \n",
    "            coeff = int(coeff) if coeff%1==0 else round(coeff, 3)\n",
    "            \n",
    "            if power == 0 and coeff != 0:\n",
    "                res += '{}'.format(coeff)\n",
    "                first_plus += 1\n",
    "            elif coeff > 0:\n",
    "                res += '+'*(first_plus!=0)+'{}'.format(coeff)*(coeff != 1)+'x' + '**{}'.format(power)*(power >= 2)\n",
    "                first_plus += 1\n",
    "            elif coeff < 0:\n",
    "                res += '-'+'{}'.format(-coeff)*(coeff != -1)+'x' + '**{}'.format(power)*(power >= 2)\n",
    "                first_plus += 1\n",
    "        return res\n",
    "            \n",
    "        \n",
    "    def __call__(self, x):  \n",
    "        \"\"\"\n",
    "        value of polynomial in x\n",
    "        \"\"\"\n",
    "        res = 0\n",
    "        for power, coeff in enumerate(self.coefficients):\n",
    "            res += coeff * x**power\n",
    "        return res \n",
    "    \n",
    "    \n",
    "    def mapping_coeffs(self, c1, c2, fill_value=0):\n",
    "        \"\"\"\n",
    "        mapping by degrees\n",
    "        \"\"\"\n",
    "        diff_len = len(c1) - len(c2)\n",
    "        if diff_len > 0:\n",
    "            c2 = c2 + [fill_value] * diff_len\n",
    "        else:\n",
    "            c1 = c1 + [fill_value] * (-diff_len)\n",
    "        return c1, c2\n",
    "    \n",
    "    \n",
    "    def __add__(self, polinom_other):\n",
    "                \n",
    "        if isinstance(polinom_other, (float, int)):\n",
    "            polinom_other = Polynomial([polinom_other])\n",
    "        elif not isinstance(polinom_other, Polynomial):\n",
    "            raise FormatException(\"unsupported operand -: {} and {}\".format(\n",
    "                Polynomial, type(polinom_other)))\n",
    "           \n",
    "        c1 = self.coefficients\n",
    "        c2 = polinom_other.coefficients   \n",
    "        \n",
    "        c1, c2 = self.mapping_coeffs(c1, c2)\n",
    "        new_c = [sum(x) for x in zip(c1, c2)]\n",
    "        return Polynomial(new_c)\n",
    "    \n",
    "    \n",
    "    def __radd__(self, polinom_other):\n",
    "        return self + polinom_other\n",
    "\n",
    "    \n",
    "    def __sub__(self, polinom_other):\n",
    "        \n",
    "        if isinstance(polinom_other, (float, int)):\n",
    "            polinom_other = Polynomial([polinom_other])\n",
    "        elif not isinstance(polinom_other, Polynomial):\n",
    "            raise FormatException(\"unsupported operand -: {} and {}\".format(\n",
    "                Polynomial, type(polinom_other)))\n",
    "            \n",
    "        c1 = self.coefficients\n",
    "        c2 = polinom_other.coefficients \n",
    "        \n",
    "        c1, c2 = self.mapping_coeffs(c1, c2)\n",
    "        new_c = [x[0]-x[1] for x in zip(c1, c2)]\n",
    "        return Polynomial(new_c)\n",
    "    \n",
    "    \n",
    "    def __rsub__(self, polinom_other):\n",
    "        return self - polinom_other\n",
    "\n",
    "    \n",
    "    def __neg__(self):\n",
    "        return Polynomial([-1*x for x in self.coefficients])\n",
    "    \n",
    "    \n",
    "    def __pos__(self):\n",
    "        return self\n",
    "    \n",
    "    \n",
    "    def __mul__(self, polinom_other):\n",
    "        if isinstance(polinom_other, (float, int)):\n",
    "            polinom_other = Polynomial([polinom_other])\n",
    "        elif not isinstance(polinom_other, Polynomial):\n",
    "            raise FormatException(\"unsupported operand *: {} and {}\".format(\n",
    "                Polynomial, type(polinom_other)))\n",
    "\n",
    "        c1 = self.coefficients\n",
    "        c2 = polinom_other.coefficients \n",
    "        c1, c2 = self.mapping_coeffs(c1, c2)\n",
    "        \n",
    "        new_c = [0]*(len(c1)+len(c2)-1)\n",
    "        \n",
    "        for i1,  val1 in enumerate(c1):\n",
    "            for i2, val2 in enumerate(c2):\n",
    "                new_c[i1+i2] +=val1*val2\n",
    "\n",
    "        return Polynomial(new_c)  \n",
    "    \n",
    "    \n",
    "    def __rmul__(self, polinom_other):\n",
    "        return self*polinom_other\n",
    "    \n",
    "    \n",
    "    def effective_exponentiation(self, n):\n",
    "        if n == 0: return 1\n",
    "        else:\n",
    "            if n % 2 == 1:\n",
    "                return  self.effective_exponentiation( n - 1) * self\n",
    "            else:\n",
    "                b = self.effective_exponentiation( n // 2)\n",
    "                return  b * b\n",
    "    \n",
    "    \n",
    "    def __pow__(self, power):\n",
    "        if not isinstance(power, (int)):\n",
    "            raise FormatException(\"Power must be int\")\n",
    "        \n",
    "        if power == 0:\n",
    "            return  Polynomial([1])  \n",
    "        \n",
    "        self = self.effective_exponentiation(power)\n",
    "        return self\n",
    "              \n",
    "        \n",
    "    def _remove_first_zeros(self, li):\n",
    "        i = True\n",
    "        k = 0 \n",
    "        while i & (len(li) > 0): \n",
    "\n",
    "            if li[0] == 0:\n",
    "                li = li[1:]\n",
    "                k += 1\n",
    "            else:\n",
    "                i=False\n",
    "\n",
    "        return li, k\n",
    "\n",
    "\n",
    "    def make_division(self, c1, c2):\n",
    "    \n",
    "        c1, _ = self._remove_first_zeros(c1)\n",
    "        c2, _ = self._remove_first_zeros(c2)\n",
    "\n",
    "        if len(c2) == 0:\n",
    "            raise ZeroDivisionError()\n",
    "\n",
    "        if len(c1) < len(c2):\n",
    "            return Polynomial(), Polynomial(c1[::-1])\n",
    "\n",
    "        new_c = []\n",
    "        while len(c1) >= len(c2):\n",
    "            new_c.append(c1[0] / c2[0])\n",
    "\n",
    "            c1 = [c1[1:][i] - (new_c[-1] * c2[1:][i]) for i in range(len(c2) - 1)] + c1[len(c2):]\n",
    "\n",
    "            if len(c1) < len(c2):\n",
    "                return Polynomial(new_c[::-1]), Polynomial(c1[::-1])\n",
    "\n",
    "            c1, k = self._remove_first_zeros(c1)\n",
    "\n",
    "            if len(c1) == 0:\n",
    "                new_c = new_c + [0]*(k-len(c2)+1)\n",
    "                break\n",
    "            else:\n",
    "                new_c = new_c + [0]*k\n",
    "\n",
    "        return Polynomial(new_c[::-1]), Polynomial(c1[::-1]).coefficients\n",
    "\n",
    "\n",
    "    def __truediv__(self, polinom_other):\n",
    "        if isinstance(polinom_other, (float, int)):\n",
    "            polinom_other = Polynomial([polinom_other])\n",
    "        elif not isinstance(polinom_other, Polynomial):\n",
    "            raise FormatException(\"unsupported operand -: {} and {}\".format(\n",
    "                Polynomial, type(polinom_other)))\n",
    "            \n",
    "        return self.make_division(self.coefficients[::-1], polinom_other.coefficients[::-1])\n",
    "    \n",
    "    \n",
    "    def derivative(self):\n",
    "        derivative_coeffs = []\n",
    "        \n",
    "        for power, c in enumerate(self.coefficients):\n",
    "            derivative_coeffs.append(power*c)\n",
    "        return Polynomial(derivative_coeffs[1:])\n",
    "    \n",
    "    \n",
    "    def integral(self):\n",
    "        integral_coeffs = []\n",
    "        \n",
    "        for power, c in enumerate(self.coefficients):\n",
    "            if c != 0:\n",
    "                integral_coeffs.append(c / (power + 1) )\n",
    "            else:\n",
    "                integral_coeffs.append(0)\n",
    "        return Polynomial([0] + integral_coeffs[:])\n"
   ]
  },
  {
   "cell_type": "code",
   "execution_count": 13,
   "metadata": {},
   "outputs": [],
   "source": [
    "coef1 = [1,3, 5]\n",
    "coef2 = [0, 1]"
   ]
  },
  {
   "cell_type": "code",
   "execution_count": 14,
   "metadata": {},
   "outputs": [],
   "source": [
    "p1 = Polynomial(coef1)\n",
    "p2 = Polynomial(coef2)\n",
    "p3 = Polynomial([0])"
   ]
  },
  {
   "cell_type": "code",
   "execution_count": 15,
   "metadata": {},
   "outputs": [
    {
     "data": {
      "text/plain": [
       "x+1.5x**2+1.667x**3"
      ]
     },
     "execution_count": 15,
     "metadata": {},
     "output_type": "execute_result"
    }
   ],
   "source": [
    "p1.integral()"
   ]
  },
  {
   "cell_type": "markdown",
   "metadata": {},
   "source": [
    "### Задача 3 [Аналог range] (0.05 балла)\n",
    "\n",
    "**Условие:**\n",
    "\n",
    "Реализуйте итератор с поведением, аналогичным range."
   ]
  },
  {
   "cell_type": "code",
   "execution_count": 16,
   "metadata": {},
   "outputs": [],
   "source": [
    "class MyRange:\n",
    "    \"\"\"\n",
    "    class like range\n",
    "    \"\"\"\n",
    "    def __init__(self, start, stop=None, step=1):\n",
    "        \n",
    "        if not isinstance(start, int):\n",
    "            raise TypeError('{} object cannot be interpreted as an integerand', type(start))\n",
    "        if step == 0:\n",
    "            raise ValueError('my_range() arg 3 must not be zero')\n",
    "            \n",
    "        self.start = start\n",
    "        \n",
    "        if stop is None:\n",
    "            self.stop = self.start \n",
    "            self.start = 0\n",
    "        else:\n",
    "            self.stop = stop\n",
    "            \n",
    "        self.step = step\n",
    "                \n",
    "\n",
    "    def __repr__(self):\n",
    "        stop_str = (', ' +  str(self.step))*(self.step != 1)\n",
    "        return 'my_range({}, {}{})'.format(self.start, self.stop, stop_str)\n",
    "    \n",
    "    def __len__(self):\n",
    "        return (self.stop - self.start) // self.step + 1 *((self.stop - self.start) % self.step != 0)\n",
    "    \n",
    "    \n",
    "    def __getitem__(self, ix):\n",
    "        if ix > len(self) - 1:\n",
    "            raise IndexError('my_range object index out of range')\n",
    "    \n",
    "        else:\n",
    "            return list(self)[ix]\n",
    "            \n",
    "            \n",
    "    def __iter__(self):\n",
    "                \n",
    "        if self.step > 0:\n",
    "            while self.start < self.stop:\n",
    "                yield self.start\n",
    "                self.start += self.step\n",
    "        elif self.step < 0:\n",
    "            while self.start > self.stop:\n",
    "                yield self.start\n",
    "                self.start += self.step"
   ]
  },
  {
   "cell_type": "code",
   "execution_count": 17,
   "metadata": {},
   "outputs": [
    {
     "data": {
      "text/plain": [
       "[-1, -3, -5]"
      ]
     },
     "execution_count": 17,
     "metadata": {},
     "output_type": "execute_result"
    }
   ],
   "source": [
    "list(MyRange(-1, -6, -2))"
   ]
  },
  {
   "cell_type": "code",
   "execution_count": 18,
   "metadata": {},
   "outputs": [
    {
     "data": {
      "text/plain": [
       "[-1, -3, -5]"
      ]
     },
     "execution_count": 18,
     "metadata": {},
     "output_type": "execute_result"
    }
   ],
   "source": [
    "list(range(-1, -6, -2))"
   ]
  },
  {
   "cell_type": "markdown",
   "metadata": {},
   "source": [
    "### Задача 4 [Primary Key] (0.05 балла)\n",
    "\n",
    "**Условие:**\n",
    "\n",
    "С помощью механизма дескрипторов реализуйте Primary Key - свойства первичного ключа из PostgreSQL."
   ]
  },
  {
   "cell_type": "markdown",
   "metadata": {},
   "source": [
    "### Задача 5 [PositiveSmallIntegerField] (0.03 балла)\n",
    "\n",
    "**Условие:**\n",
    "\n",
    "С помощью механизма дескрипторов реализуйте тип данных PositiveSmallIntegerField - поле, принимающее значения от 0 до 32767."
   ]
  },
  {
   "cell_type": "code",
   "execution_count": 1,
   "metadata": {},
   "outputs": [],
   "source": [
    "class PositiveDescriptors:\n",
    "    def __init__(self, name=None):\n",
    "        self.name = name\n",
    "        \n",
    "    def __set__(self, instance, value):\n",
    "        if isinstance(value, int) and (0 <= value <= 32767):\n",
    "            instance.__dict__[self.name] = value\n",
    "        else:\n",
    "            raise ValueError('Incorrect value')\n",
    "            \n",
    "    def __get__(self, instance, obj):\n",
    "        return instance.__dict__[self.name]\n",
    "            \n",
    "    def __delete__(self, obj):\n",
    "        del instance\n",
    "     \n",
    "    \n",
    "class PositiveSmallIntegerField:\n",
    "    descr = PositiveDescriptors('positive_number')\n",
    "    \n",
    "    def __init__(self, number):\n",
    "        self.descr = number\n",
    "        "
   ]
  },
  {
   "cell_type": "code",
   "execution_count": 2,
   "metadata": {},
   "outputs": [],
   "source": [
    "a = PositiveSmallIntegerField(1)"
   ]
  },
  {
   "cell_type": "code",
   "execution_count": 3,
   "metadata": {
    "scrolled": false
   },
   "outputs": [
    {
     "data": {
      "text/plain": [
       "1"
      ]
     },
     "execution_count": 3,
     "metadata": {},
     "output_type": "execute_result"
    }
   ],
   "source": [
    "a.descr"
   ]
  },
  {
   "cell_type": "code",
   "execution_count": 4,
   "metadata": {},
   "outputs": [
    {
     "ename": "ValueError",
     "evalue": "Incorrect value",
     "output_type": "error",
     "traceback": [
      "\u001b[0;31m---------------------------------------------------------------------------\u001b[0m",
      "\u001b[0;31mValueError\u001b[0m                                Traceback (most recent call last)",
      "\u001b[0;32m<ipython-input-4-12188aea7ff7>\u001b[0m in \u001b[0;36m<module>\u001b[0;34m()\u001b[0m\n\u001b[0;32m----> 1\u001b[0;31m \u001b[0ma\u001b[0m\u001b[0;34m.\u001b[0m\u001b[0mdescr\u001b[0m \u001b[0;34m=\u001b[0m \u001b[0;34m-\u001b[0m\u001b[0;36m3\u001b[0m\u001b[0;34m\u001b[0m\u001b[0m\n\u001b[0m",
      "\u001b[0;32m<ipython-input-1-c04438b690bc>\u001b[0m in \u001b[0;36m__set__\u001b[0;34m(self, instance, value)\u001b[0m\n\u001b[1;32m      7\u001b[0m             \u001b[0minstance\u001b[0m\u001b[0;34m.\u001b[0m\u001b[0m__dict__\u001b[0m\u001b[0;34m[\u001b[0m\u001b[0mself\u001b[0m\u001b[0;34m.\u001b[0m\u001b[0mname\u001b[0m\u001b[0;34m]\u001b[0m \u001b[0;34m=\u001b[0m \u001b[0mvalue\u001b[0m\u001b[0;34m\u001b[0m\u001b[0m\n\u001b[1;32m      8\u001b[0m         \u001b[0;32melse\u001b[0m\u001b[0;34m:\u001b[0m\u001b[0;34m\u001b[0m\u001b[0m\n\u001b[0;32m----> 9\u001b[0;31m             \u001b[0;32mraise\u001b[0m \u001b[0mValueError\u001b[0m\u001b[0;34m(\u001b[0m\u001b[0;34m'Incorrect value'\u001b[0m\u001b[0;34m)\u001b[0m\u001b[0;34m\u001b[0m\u001b[0m\n\u001b[0m\u001b[1;32m     10\u001b[0m \u001b[0;34m\u001b[0m\u001b[0m\n\u001b[1;32m     11\u001b[0m     \u001b[0;32mdef\u001b[0m \u001b[0m__get__\u001b[0m\u001b[0;34m(\u001b[0m\u001b[0mself\u001b[0m\u001b[0;34m,\u001b[0m \u001b[0minstance\u001b[0m\u001b[0;34m,\u001b[0m \u001b[0mobj\u001b[0m\u001b[0;34m)\u001b[0m\u001b[0;34m:\u001b[0m\u001b[0;34m\u001b[0m\u001b[0m\n",
      "\u001b[0;31mValueError\u001b[0m: Incorrect value"
     ]
    }
   ],
   "source": [
    "a.descr = -3"
   ]
  },
  {
   "cell_type": "code",
   "execution_count": 5,
   "metadata": {},
   "outputs": [],
   "source": [
    "a.descr = 3"
   ]
  },
  {
   "cell_type": "code",
   "execution_count": 6,
   "metadata": {},
   "outputs": [
    {
     "data": {
      "text/plain": [
       "3"
      ]
     },
     "execution_count": 6,
     "metadata": {},
     "output_type": "execute_result"
    }
   ],
   "source": [
    "a.descr"
   ]
  },
  {
   "cell_type": "markdown",
   "metadata": {},
   "source": [
    "### Задача 6 [Timer] (0.02 балла)\n",
    "\n",
    "**Условие:**\n",
    "\n",
    "Реализовать контекстный менеджер, который выводит время, проведенное в нём."
   ]
  },
  {
   "cell_type": "code",
   "execution_count": 7,
   "metadata": {},
   "outputs": [],
   "source": [
    "import time\n",
    "\n",
    "class Timer:\n",
    "    def __init__(self):\n",
    "        self.start_init = time.time()\n",
    "        \n",
    "    def __enter__(self):\n",
    "        self.start_with = time.time()\n",
    "        \n",
    "    def __exit__(self, exc_type, exc_val, exc_tb):\n",
    "        self.end = time.time()\n",
    "        print('Total time: {:.3f} sec.'.format(self.end - min(self.start_with, self.start_init)))"
   ]
  },
  {
   "cell_type": "code",
   "execution_count": 8,
   "metadata": {},
   "outputs": [
    {
     "name": "stdout",
     "output_type": "stream",
     "text": [
      "Total time: 3.000 sec.\n"
     ]
    }
   ],
   "source": [
    "with Timer():\n",
    "    time.sleep(3)"
   ]
  },
  {
   "cell_type": "code",
   "execution_count": 9,
   "metadata": {},
   "outputs": [
    {
     "name": "stdout",
     "output_type": "stream",
     "text": [
      "Total time: 8.001 sec.\n"
     ]
    }
   ],
   "source": [
    "t1 = Timer()\n",
    "time.sleep(5)\n",
    "\n",
    "with t1:\n",
    "    time.sleep(3)"
   ]
  },
  {
   "cell_type": "code",
   "execution_count": null,
   "metadata": {},
   "outputs": [],
   "source": []
  }
 ],
 "metadata": {
  "kernelspec": {
   "display_name": "Python 3",
   "language": "python",
   "name": "python3"
  },
  "language_info": {
   "codemirror_mode": {
    "name": "ipython",
    "version": 3
   },
   "file_extension": ".py",
   "mimetype": "text/x-python",
   "name": "python",
   "nbconvert_exporter": "python",
   "pygments_lexer": "ipython3",
   "version": "3.6.5"
  }
 },
 "nbformat": 4,
 "nbformat_minor": 2
}
